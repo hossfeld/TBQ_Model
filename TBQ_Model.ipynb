{
 "cells": [
  {
   "cell_type": "markdown",
   "id": "6aa327fd",
   "metadata": {},
   "source": [
    "# Threshold-based QoE Model (TBQ)\n",
    "This Jupyter notebook implements the TBQ model and in particular the transformation of the TBQ model to estimate the system PoW. The System PoW is the ratio of users in a system who rate the quality as poor or worse. It is the average of PoW values based on a QoS–PoW mapping function. The transformation, however, allows to use an QoS-MOS mapping function instead of the PoW mapping function, since literature often reports MOS mapping functions.\n",
    "\n",
    "The TBQ Model is defined in the following article:\n",
    "\n",
    ">\"Industrial User Experience Index vs. Quality of Experience Models\" by Tobias Hoßfeld, Anika Seufert, Frank Loh, Stefan Wunderer, John Davies, accepted for publication in IEEE Communications Magazine (2022)\n",
    "\n",
    "## System QoE and System PoW\n",
    "During operation of a real-world system, an operator is interested to quantify the *QoE* of the user *in that system*. Various QoE metrics may be of interest for the operator, like the *expected (i.e. average) QoE* of a user in the system or the *ratio of users in the system with poor or worse (PoW) quality*. To obtain the system QoE or system PoW, the users rate the service consumed under the varying QoS conditions. Then, the resulting QoE distribution of user ratings in the system is a random variable, denoted as $Q$. The expected QoE $E[Q]$ is referred to as expected system QoE, while the system PoW is the probability that the user rating is poor or worse $P(Q\\leq 2)$. \n",
    "Note that the definition of system QoE and system PoW only consider the user ratings.\n",
    "\n",
    "However, in such a real system, the operator cannot always ask the users to rate the service. To this end, we utilize the fundamental relationships for deriving QoE in systems by Hossfeld et al. (2020). Let us consider subjective user studies. Users are rating the QoE for a fixed QoS and system conditions $x$, e.g. an average video bitrate of $x=\\SI{1}{Mbps}$. Then, the user ratings under condition $x$ are a conditional random variable $Q|x$.  The mean opinion score (MOS) is simply the average or expected QoE $E[Q|x]$ and we obtain a MOS mapping function $f(x)=E[Q|x]$. However, the QoS condition in the system are also a random variable $X$ with probability density function $h(x)$. Then, the fundamental relationship is obtained.\n",
    "\n",
    "$$\n",
    "E[Q]=\\int_x E[Q|x] \\cdot h(x) \\; dx = \\int_x f(x) \\cdot h(x) \\; dx = E[f(X)]\n",
    "$$\n",
    "\n",
    "**System QoE $E[Q]$** is the expected (i.e. average) QoE of a user in a considered system. It is the average $E[f(X)]$ of MOS values based on a QoS–MOS mapping function $f(X)$.\n",
    "\n",
    "In a similar way, the fundamental relationship between the PoW ratio of users in the system and the QoS measurements is derived by using a PoW mapping function $g(x)$ instead of a MOS mapping function, which is also obtained by subjective user studies. \n",
    "\n",
    "$$\n",
    "PoW[Q]=P(Q\\leq 2)=E[g(X)] \n",
    "$$\n",
    "\n",
    "A formal proof is provided by Hossfeld et al. (2020) for those fundamental relationships. In practice, the operator measures the QoS, applies the PoW mapping function to the QoS measurements, and computes the average to quantify the PoW ratio. \n",
    "\n",
    "> T. Hoßfeld, P. E. Heegaard, L. Skorin-Kapov, and M. Varela, “Deriving\n",
    "QoE in Systems: from Fundamental Relationships to a QoE-based\n",
    "Service-level Quality Index,” Quality and User Experience, vol. 5, no. 1,\n",
    "pp. 1–17, 2020\n",
    "\n",
    "## TBQ Model\n",
    "So we have seen how to calculate the real system QoE and system PoW, but how does it work with the TBQ model? The TBQ model defines thresholds for the QoS parameters and then yields a discrete QoE score, for example, 1,2,3,4,5 for bad, poor, fair, good, excellent quality, respectively. The TBQ model and the thresholds are typically chosen to reflect *an average user*. Hence, we obtain a QoS-MOS mapping function $b(x)$ for QoS values $x$.\n",
    "\n",
    "For deriving now the **system TBQ**, we are following the same procedure as for the system QoE. \n",
    "The TBQ model is applied to the collected QoS measurements $X$ and we obtain the random variable $B=b(X)$ indicating the QoE of the average user. \n",
    "\n",
    "$$B=b(X)$$\n",
    "\n",
    "Then, the average $E[b(x)]$ of TBQ scores reflects the system TBQ.\n",
    "\n",
    "$$E[B]=E[b(x)]$$\n",
    "\n",
    "Note that the mapping function $b(x)$ is discrete, while typically QoS-MOS mapping functions $f(x)$ are continuous. \n",
    "\n",
    "The TBQ PoW is also defined on the basis of the TBQ scores. Hence, the TBQ model considers a system which only consists of *'average users'*. Then, the ratio of the average users obtaining a poor or worse quality yields the TBQ PoW. **TBQ PoW** is the proportion of average users in that system with poor or worse quality based on the defined thresholds of the TBQ model.\n",
    "\n",
    "$$\n",
    "PoW[B] = P(B\\leq 2) = P(b(X)\\leq 2)\n",
    "$$\n",
    "\n",
    "*Does the TBQ model result in the true system QoE? Does the TBQ model result in the system PoW? Can we transform the TBQ model results to obtain the system PoW?* This will be shown in the notebook.\n",
    "\n",
    "## Example: MOS and PoW Functions\n",
    "We consider the example of video streaming. The video bitrate $x$ is mapped to MOS and PoW values."
   ]
  },
  {
   "cell_type": "code",
   "execution_count": 2,
   "id": "64b0de9d",
   "metadata": {},
   "outputs": [],
   "source": [
    "import numpy as np\n",
    "import matplotlib.pyplot as plt\n",
    "from matplotlib.colors import LinearSegmentedColormap\n",
    "from scipy.stats import beta\n",
    "from scipy import interpolate\n",
    "\n",
    "def powBetaDist(m,sosa=0.25,a=1,b=5):\n",
    "    alpha = (1-sosa)*(m-1)/(sosa*(b-a))\n",
    "    be = (1-sosa)*(b-m)/(sosa*(b-a))\n",
    "    rv = beta(alpha,be, loc=a, scale=b-a)\n",
    "    return rv.cdf(2.5)\n",
    "\n",
    "def QoE_bitrate(b,Rmin=0.1):\n",
    "    R = np.log(b/Rmin)\n",
    "    return np.maximum(1,np.minimum(5,R))\n",
    "\n",
    "\n",
    "a, b= 0.3, 15\n",
    "xx = np.linspace(a,b,10000)\n",
    "yy = np.array([powBetaDist(QoE_bitrate(x)) for x in xx])\n",
    "i= ~np.isnan(yy)\n",
    "\n",
    "pow_fun = interpolate.interp1d(xx[i], yy[i]) # This is our true PoW mapping function\n",
    "mos_fun = QoE_bitrate # This is our true MOS mapping function"
   ]
  },
  {
   "cell_type": "markdown",
   "id": "1e727ed4",
   "metadata": {},
   "source": [
    "### Plotting the mapping functions\n",
    "Now we plot the QoS-MOS mapping function $f(x)$ and define the TBQ model $b(x)$."
   ]
  },
  {
   "cell_type": "code",
   "execution_count": 8,
   "id": "6b8a46f8",
   "metadata": {},
   "outputs": [
    {
     "data": {
      "image/png": "[encoded data removed]",
      "text/plain": [
       "<Figure size 432x288 with 1 Axes>"
      ]
     },
     "metadata": {
      "needs_background": "light"
     },
     "output_type": "display_data"
    }
   ],
   "source": [
    "tbq_bitrates = np.exp([1,1.5,2.5,3.5,4.5]+np.log(0.1))\n",
    "x = np.linspace(tbq_bitrates[0],b,200)\n",
    "plt.plot(x,mos_fun(x), 'k-', linewidth=3, label='MOS mapping function')\n",
    "\n",
    "cmap = LinearSegmentedColormap.from_list('name', ['red', 'yellow', 'green'])\n",
    "colors = cmap(np.linspace(0, 1, 5))\n",
    "\n",
    "for i in range(4):\n",
    "    x = tbq_bitrates[i+1]\n",
    "    plt.plot([x,x],[1,mos_fun(x)], 'k--')\n",
    "    plt.plot([0.25,x],[mos_fun(x),mos_fun(x)], '--', color=[0.8]*3)\n",
    "    myx = np.linspace(tbq_bitrates[i],tbq_bitrates[i+1],50)\n",
    "    plt.fill_between(myx, mos_fun(myx), color=colors[i,:])\n",
    "\n",
    "myx = np.linspace(tbq_bitrates[-1],23,50)    \n",
    "plt.fill_between(myx, mos_fun(myx), color=colors[-1,:])\n",
    "plt.xscale('log')\n",
    "plt.ylim([1,5])\n",
    "plt.xlim([0.25,myx[-1]])\n",
    "plt.xlabel('video bitrate (Mbps)')\n",
    "plt.ylabel('MOS')\n",
    "plt.legend(['MOS mapping function', 'TBQ thresholds'],loc='best')\n",
    "plt.xticks(ticks=tbq_bitrates, labels=np.round(tbq_bitrates,decimals=2));"
   ]
  },
  {
   "cell_type": "markdown",
   "id": "7b216eea",
   "metadata": {},
   "source": [
    "### Definition of TBQ Model\n",
    "We simply check the thresholds and assign the discrete QoE scores. For a given video bitrate `mbps`, the functions provide the TBQ score and the correspoinding TBQ PoW values."
   ]
  },
  {
   "cell_type": "code",
   "execution_count": 5,
   "id": "f3dbd9a4",
   "metadata": {},
   "outputs": [],
   "source": [
    "bitrates = np.exp(np.arange(1,6)+np.log(0.1))\n",
    "tbq_bitrates = np.exp([1,1.5,2.5,3.5,4.5]+np.log(0.1))\n",
    "\n",
    "\n",
    "pow_bitrates  = np.exp([1,2,3,4,5]+np.log(0.1))\n",
    "tbq_powvals = np.insert(np.insert(pow_fun(tbq_bitrates[1:]),0,1),5,0)\n",
    "\n",
    "\n",
    "def TBQmodel(mbps):\n",
    "    q = np.digitize(mbps, tbq_bitrates)\n",
    "    return q\n",
    "\n",
    "def TBQPowmodel(mbps):\n",
    "    q = np.digitize(mbps, tbq_bitrates)\n",
    "    return tbq_powvals[q]"
   ]
  },
  {
   "cell_type": "markdown",
   "id": "13a4f550",
   "metadata": {},
   "source": [
    "### System QoS Conditions and True QoE Distribution\n",
    "We consider varying system QoS conditions (random variable, r.v.) which lead to the corresponding QoE $Q$ (r.v.). Thus, we define `getRVForMeanAndStd` which returns the corresponding r.v. $Q$."
   ]
  },
  {
   "cell_type": "code",
   "execution_count": 7,
   "id": "5ed4f8ea",
   "metadata": {},
   "outputs": [],
   "source": [
    "def getRVForMeanAndStd(mu=4.0, sigma=1.0, a=1, b=5):\n",
    "    lam = (mu-a)*(b-mu)/sigma**2-1\n",
    "    alpha = lam*(mu-a)/(b-a)\n",
    "    be = lam*(b-mu)/(b-a)\n",
    "    rv = beta(alpha,be, loc=a, scale=b-a)\n",
    "    return rv"
   ]
  },
  {
   "cell_type": "markdown",
   "id": "393aeb3d",
   "metadata": {},
   "source": [
    "### Simulate True QoE Distributions\n",
    "We consider now different QoE distributions with mean $\\mu$ and standard deviation $\\sigma$. Hence, $\\mu$ is the true system QoE. Accordingly, we derive the TBQ scores."
   ]
  },
  {
   "cell_type": "code",
   "execution_count": 13,
   "id": "1889b0e6",
   "metadata": {},
   "outputs": [],
   "source": [
    "import scipy.integrate as integrate\n",
    "import warnings\n",
    "warnings.filterwarnings(\"ignore\")\n",
    "\n",
    "\n",
    "mus = np.linspace(1,5,100)\n",
    "sigmas = [0.1, 0.25, 0.5]\n",
    "tbqs = np.zeros((len(mus),len(sigmas)))\n",
    "\n",
    "for i,m in enumerate(mus):\n",
    "    for j,s in enumerate(sigmas):\n",
    "        rv = getRVForMeanAndStd(mu=m,sigma=s)\n",
    "        tbqs[i,j] = integrate.quad(lambda x: np.round(x)*rv.pdf(x), 1, 5)[0]"
   ]
  },
  {
   "cell_type": "code",
   "execution_count": 14,
   "id": "316150f5",
   "metadata": {},
   "outputs": [
    {
     "data": {
      "image/png": "[encoded data removed]",
      "text/plain": [
       "<Figure size 432x288 with 1 Axes>"
      ]
     },
     "metadata": {
      "needs_background": "light"
     },
     "output_type": "display_data"
    }
   ],
   "source": [
    "plt.plot(mus, np.round(mus), label='0')\n",
    "for j,s in enumerate(sigmas):\n",
    "    plt.plot(mus, tbqs[:,j], label=s)\n",
    "plt.xlabel('system QoE')\n",
    "plt.ylabel('TBQ QoE')\n",
    "plt.legend(title='system var.')\n",
    "plt.grid(which='major');"
   ]
  },
  {
   "cell_type": "markdown",
   "id": "ddb0e7dd",
   "metadata": {},
   "source": [
    "We observe that the TBQ QoE is close to the system QoE. This is expected, since the TBQ model considers an average user and the system QoE is the true expected (i.e. average) QoE of a user in the system. The discrepancy is only caused by the finite mapping to the QoE scores 1,2,3,4,5 by the TBQ model. If more classes are used, the error gets smaller. However, in practice, it is more difficult to find fine-granular thresholds.\n",
    "\n",
    "### TBQ PoW vs. System PoW\n",
    "Now, let's compare the TBQ PoW and the system PoW. There are strong differences!"
   ]
  },
  {
   "cell_type": "code",
   "execution_count": 21,
   "id": "f2d1b0ad",
   "metadata": {},
   "outputs": [
    {
     "name": "stdout",
     "output_type": "stream",
     "text": [
      "System QoE 2.85837 vs. TBQ QoE 2.868\n",
      "System PoW 0.408428 vs. TBQ PoW 0.223\n"
     ]
    }
   ],
   "source": [
    "mu = 2.0 # true average QoE\n",
    "sigma = 1.0 # standard deviation of QoE\n",
    "\n",
    "# check if parameter (mu, sigma) are possible with a Beta distribution\n",
    "def checkBeta(mean,std, a, b, f=1):\n",
    "    m = (mean-a)/(b-a)\n",
    "    s = std/(b-a)\n",
    "    return True if s**2<m*(1-m)*f else False\n",
    "\n",
    "if not checkBeta(mu, sigma, a,b) or not checkBeta(mu, 2*sigma, a,b):\n",
    "    raise Warning('wrong parameters')\n",
    "\n",
    "    \n",
    "    \n",
    "X = getRVForMeanAndStd(mu=mu, sigma=sigma, a=a, b=b-0.2) # video bitrates \n",
    "\n",
    "qos = X.rvs(size=1000) # 1000 QoS measurements\n",
    "\n",
    "system_qoe = mos_fun(qos).mean()\n",
    "system_pow = pow_fun(qos).mean()\n",
    "\n",
    "# optimal TBQ thresholds: rounding of MOS mapping function\n",
    "tbq_scores = np.round(mos_fun(qos))\n",
    "tbq_qoe = tbq_scores.mean()\n",
    "tbq_pow = np.sum(tbq_scores<=2)/len(tbq_scores)\n",
    "\n",
    "print(f'System QoE {system_qoe:g} vs. TBQ QoE {tbq_qoe:g}')\n",
    "print(f'System PoW {system_pow:g} vs. TBQ PoW {tbq_pow:g}')\n"
   ]
  },
  {
   "cell_type": "markdown",
   "id": "554597b4",
   "metadata": {},
   "source": [
    "### Transformation\n",
    "For a given MOS score, we are not able to derive the entire user rating distribution. However, we can assume a certain user rating diversity which is expressed in terms of the SOS parameter $a$. Then we can compute the entire distribution based on that assumption of $a$. Since $a$ is not known, we may simple assume a low user rating diversity $a_1=0.1$ and a high user rating diversity $a_2=0.25$, respectively. This will result into two corresponding PoW values $p_1(m,a_1)$ and $p_2(m,a_2)$. Then, we approximate the PoW mapping functions using the average of $p_1$ and $p_2$. \n",
    "\n",
    "Hence, we approximate the PoW mapping functions and then return the mean. This will give us a transformed TBQ PoW which is closer to the system PoW."
   ]
  },
  {
   "cell_type": "code",
   "execution_count": 27,
   "id": "7faeb4b1",
   "metadata": {},
   "outputs": [
    {
     "name": "stdout",
     "output_type": "stream",
     "text": [
      "System PoW 0.408428 vs. TBQ PoW 0.223 vs. transformed TBQ PoW 0.373657 \n"
     ]
    }
   ],
   "source": [
    "def transformTBQ_pow(tbq_scores):   \n",
    "    \n",
    "    def transformTBQ(m):    \n",
    "        if m==5:\n",
    "            return 0 \n",
    "        elif m==1:\n",
    "            return 1\n",
    "        else:\n",
    "            pows = np.zeros(2)\n",
    "            for i,a in enumerate([0.1, 0.25]):        \n",
    "                alpha = (1-a)*(m-1)/(4*a)\n",
    "                be = (1-a)*(5-m)/(4*a)            \n",
    "                pows[i] = (beta(alpha,be, loc=1, scale=4).cdf(2.5)) # THIS IS POW NOW        \n",
    "        y=pows.mean()\n",
    "        if np.isnan(y):\n",
    "            return 0\n",
    "        else:\n",
    "            return y\n",
    "        \n",
    "    y = np.zeros(len(tbq_scores))\n",
    "    for i,m in enumerate(tbq_scores):\n",
    "        y[i] = transformTBQ(m)\n",
    "        \n",
    "    return y.mean()\n",
    "\n",
    "print(f'System PoW {system_pow:g} vs. TBQ PoW {tbq_pow:g} vs. transformed TBQ PoW {transformTBQ_pow(tbq_scores):g} ')    "
   ]
  }
 ],
 "metadata": {
  "kernelspec": {
   "display_name": "Python 3 (ipykernel)",
   "language": "python",
   "name": "python3"
  },
  "language_info": {
   "codemirror_mode": {
    "name": "ipython",
    "version": 3
   },
   "file_extension": ".py",
   "mimetype": "text/x-python",
   "name": "python",
   "nbconvert_exporter": "python",
   "pygments_lexer": "ipython3",
   "version": "3.7.10"
  }
 },
 "nbformat": 4,
 "nbformat_minor": 5
}
